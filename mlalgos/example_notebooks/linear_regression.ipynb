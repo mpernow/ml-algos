{
 "cells": [
  {
   "cell_type": "markdown",
   "metadata": {},
   "source": [
    "# Linear Regression"
   ]
  },
  {
   "attachments": {},
   "cell_type": "markdown",
   "metadata": {},
   "source": [
    "A notebook reproducing some of the examples from chapter 3 of Hastie, Tibshirani, Friedman, *The Elements of Statistical Learning*"
   ]
  },
  {
   "cell_type": "code",
   "execution_count": 1,
   "metadata": {},
   "outputs": [],
   "source": [
    "from itertools import combinations\n",
    "import pandas as pd\n",
    "import numpy as np\n",
    "import scipy.linalg as spl\n",
    "import scipy.stats as sps\n",
    "import scipy.optimize as spo\n",
    "import matplotlib.pyplot as plt"
   ]
  },
  {
   "cell_type": "code",
   "execution_count": 2,
   "metadata": {},
   "outputs": [],
   "source": [
    "from mlalgos.supervised_learning.linear_regression import (\n",
    "    DummyRegression,\n",
    "    LinearRegression,\n",
    "    LassoRegression,\n",
    "    PrincipalComponentsRegression,\n",
    "    RidgeRegression,\n",
    "    PartialLeastSquaresRegression\n",
    ")\n",
    "from mlalgos.utils.data_utils import StandardScaler, cross_validation_split\n",
    "from mlalgos.utils.error_funcs import mean_squared_error\n",
    "from mlalgos.utils.plotting import plot_cv_results"
   ]
  },
  {
   "cell_type": "markdown",
   "metadata": {},
   "source": [
    "## Import some data"
   ]
  },
  {
   "cell_type": "code",
   "execution_count": 3,
   "metadata": {},
   "outputs": [
    {
     "data": {
      "text/html": [
       "<div>\n",
       "<style scoped>\n",
       "    .dataframe tbody tr th:only-of-type {\n",
       "        vertical-align: middle;\n",
       "    }\n",
       "\n",
       "    .dataframe tbody tr th {\n",
       "        vertical-align: top;\n",
       "    }\n",
       "\n",
       "    .dataframe thead th {\n",
       "        text-align: right;\n",
       "    }\n",
       "</style>\n",
       "<table border=\"1\" class=\"dataframe\">\n",
       "  <thead>\n",
       "    <tr style=\"text-align: right;\">\n",
       "      <th></th>\n",
       "      <th>lcavol</th>\n",
       "      <th>lweight</th>\n",
       "      <th>age</th>\n",
       "      <th>lbph</th>\n",
       "      <th>svi</th>\n",
       "      <th>lcp</th>\n",
       "      <th>gleason</th>\n",
       "      <th>pgg45</th>\n",
       "      <th>lpsa</th>\n",
       "      <th>train</th>\n",
       "    </tr>\n",
       "  </thead>\n",
       "  <tbody>\n",
       "    <tr>\n",
       "      <th>0</th>\n",
       "      <td>-0.579818</td>\n",
       "      <td>2.769459</td>\n",
       "      <td>50</td>\n",
       "      <td>-1.386294</td>\n",
       "      <td>0</td>\n",
       "      <td>-1.386294</td>\n",
       "      <td>6</td>\n",
       "      <td>0</td>\n",
       "      <td>-0.430783</td>\n",
       "      <td>T</td>\n",
       "    </tr>\n",
       "    <tr>\n",
       "      <th>1</th>\n",
       "      <td>-0.994252</td>\n",
       "      <td>3.319626</td>\n",
       "      <td>58</td>\n",
       "      <td>-1.386294</td>\n",
       "      <td>0</td>\n",
       "      <td>-1.386294</td>\n",
       "      <td>6</td>\n",
       "      <td>0</td>\n",
       "      <td>-0.162519</td>\n",
       "      <td>T</td>\n",
       "    </tr>\n",
       "    <tr>\n",
       "      <th>2</th>\n",
       "      <td>-0.510826</td>\n",
       "      <td>2.691243</td>\n",
       "      <td>74</td>\n",
       "      <td>-1.386294</td>\n",
       "      <td>0</td>\n",
       "      <td>-1.386294</td>\n",
       "      <td>7</td>\n",
       "      <td>20</td>\n",
       "      <td>-0.162519</td>\n",
       "      <td>T</td>\n",
       "    </tr>\n",
       "    <tr>\n",
       "      <th>3</th>\n",
       "      <td>-1.203973</td>\n",
       "      <td>3.282789</td>\n",
       "      <td>58</td>\n",
       "      <td>-1.386294</td>\n",
       "      <td>0</td>\n",
       "      <td>-1.386294</td>\n",
       "      <td>6</td>\n",
       "      <td>0</td>\n",
       "      <td>-0.162519</td>\n",
       "      <td>T</td>\n",
       "    </tr>\n",
       "    <tr>\n",
       "      <th>4</th>\n",
       "      <td>0.751416</td>\n",
       "      <td>3.432373</td>\n",
       "      <td>62</td>\n",
       "      <td>-1.386294</td>\n",
       "      <td>0</td>\n",
       "      <td>-1.386294</td>\n",
       "      <td>6</td>\n",
       "      <td>0</td>\n",
       "      <td>0.371564</td>\n",
       "      <td>T</td>\n",
       "    </tr>\n",
       "  </tbody>\n",
       "</table>\n",
       "</div>"
      ],
      "text/plain": [
       "     lcavol   lweight  age      lbph  svi       lcp  gleason  pgg45      lpsa  \\\n",
       "0 -0.579818  2.769459   50 -1.386294    0 -1.386294        6      0 -0.430783   \n",
       "1 -0.994252  3.319626   58 -1.386294    0 -1.386294        6      0 -0.162519   \n",
       "2 -0.510826  2.691243   74 -1.386294    0 -1.386294        7     20 -0.162519   \n",
       "3 -1.203973  3.282789   58 -1.386294    0 -1.386294        6      0 -0.162519   \n",
       "4  0.751416  3.432373   62 -1.386294    0 -1.386294        6      0  0.371564   \n",
       "\n",
       "  train  \n",
       "0     T  \n",
       "1     T  \n",
       "2     T  \n",
       "3     T  \n",
       "4     T  "
      ]
     },
     "execution_count": 3,
     "metadata": {},
     "output_type": "execute_result"
    }
   ],
   "source": [
    "prostate_data = '~/datasets/prostate.txt'\n",
    "df = pd.read_csv(prostate_data, sep='\\t', usecols=[1,2,3,4,5,6,7,8,9,10])\n",
    "df.head()"
   ]
  },
  {
   "cell_type": "code",
   "execution_count": 4,
   "metadata": {},
   "outputs": [
    {
     "name": "stdout",
     "output_type": "stream",
     "text": [
      "['lcavol', 'lweight', 'age', 'lbph', 'svi', 'lcp', 'gleason', 'pgg45']\n"
     ]
    }
   ],
   "source": [
    "target = 'lpsa'\n",
    "features = list(df)\n",
    "features.remove('lpsa')\n",
    "features.remove('train')\n",
    "print(features)"
   ]
  },
  {
   "cell_type": "code",
   "execution_count": 5,
   "metadata": {},
   "outputs": [],
   "source": [
    "# use train flag to split\n",
    "train = df.train == 'T'\n",
    "X, y = df[features].values, df[target].values\n",
    "X_train, y_train = X[train], y[train]\n",
    "X_test, y_test = X[~train], y[~train]"
   ]
  },
  {
   "cell_type": "code",
   "execution_count": 6,
   "metadata": {},
   "outputs": [
    {
     "name": "stdout",
     "output_type": "stream",
     "text": [
      "[[1.0000000000000002, 0.30023198690216274, 0.28632426557510204, 0.06316772022296163, 0.592949130529482, 0.6920430753226345, 0.4264140724486782, 0.48316135710366304], [0.30023198690216274, 0.9999999999999999, 0.31672346842086035, 0.437041536580065, 0.1810544782843504, 0.15682859478541616, 0.023558207288831432, 0.0741663208573534], [0.28632426557510204, 0.31672346842086035, 0.9999999999999999, 0.28734644573788043, 0.12890226303142774, 0.172951397595152, 0.3659151225132289, 0.2758057291244312], [0.06316772022296163, 0.437041536580065, 0.28734644573788043, 0.9999999999999998, -0.13914679926810444, -0.08853455936907369, 0.032992152046930436, -0.030403819438876666], [0.592949130529482, 0.1810544782843504, 0.12890226303142774, -0.13914679926810444, 1.0, 0.6712402103032987, 0.3068753723785833, 0.48135774093302786], [0.6920430753226345, 0.15682859478541616, 0.172951397595152, -0.08853455936907369, 0.6712402103032987, 1.0000000000000002, 0.4764368357350071, 0.6625333515651151], [0.4264140724486782, 0.023558207288831432, 0.3659151225132289, 0.032992152046930436, 0.3068753723785833, 0.4764368357350071, 0.9999999999999999, 0.7570564964001196], [0.48316135710366304, 0.0741663208573534, 0.2758057291244312, -0.030403819438876666, 0.48135774093302786, 0.6625333515651151, 0.7570564964001196, 1.0000000000000002]]\n"
     ]
    }
   ],
   "source": [
    "# correlation matrix\n",
    "corr = []\n",
    "for feature1 in features:\n",
    "    corr_list = []\n",
    "    x1 = df[train][feature1].values\n",
    "    mean1 = np.mean(x1)\n",
    "    std1 = np.std(x1)\n",
    "    for feature2 in features:\n",
    "        x2 = df[train][feature2].values\n",
    "        mean2 = np.mean(x2)\n",
    "        std2 = np.std(x2)\n",
    "        c = np.mean((x1-mean1)*(x2-mean2))/(std1*std2)\n",
    "        corr_list.append(c)\n",
    "    corr.append(corr_list)\n",
    "print(corr)"
   ]
  },
  {
   "cell_type": "code",
   "execution_count": 7,
   "metadata": {},
   "outputs": [
    {
     "data": {
      "text/html": [
       "<div>\n",
       "<style scoped>\n",
       "    .dataframe tbody tr th:only-of-type {\n",
       "        vertical-align: middle;\n",
       "    }\n",
       "\n",
       "    .dataframe tbody tr th {\n",
       "        vertical-align: top;\n",
       "    }\n",
       "\n",
       "    .dataframe thead th {\n",
       "        text-align: right;\n",
       "    }\n",
       "</style>\n",
       "<table border=\"1\" class=\"dataframe\">\n",
       "  <thead>\n",
       "    <tr style=\"text-align: right;\">\n",
       "      <th></th>\n",
       "      <th>lcavol</th>\n",
       "      <th>lweight</th>\n",
       "      <th>age</th>\n",
       "      <th>lbph</th>\n",
       "      <th>svi</th>\n",
       "      <th>lcp</th>\n",
       "      <th>gleason</th>\n",
       "      <th>pgg45</th>\n",
       "    </tr>\n",
       "  </thead>\n",
       "  <tbody>\n",
       "    <tr>\n",
       "      <th>lcavol</th>\n",
       "      <td>1.000000</td>\n",
       "      <td>0.300232</td>\n",
       "      <td>0.286324</td>\n",
       "      <td>0.063168</td>\n",
       "      <td>0.592949</td>\n",
       "      <td>0.692043</td>\n",
       "      <td>0.426414</td>\n",
       "      <td>0.483161</td>\n",
       "    </tr>\n",
       "    <tr>\n",
       "      <th>lweight</th>\n",
       "      <td>0.300232</td>\n",
       "      <td>1.000000</td>\n",
       "      <td>0.316723</td>\n",
       "      <td>0.437042</td>\n",
       "      <td>0.181054</td>\n",
       "      <td>0.156829</td>\n",
       "      <td>0.023558</td>\n",
       "      <td>0.074166</td>\n",
       "    </tr>\n",
       "    <tr>\n",
       "      <th>age</th>\n",
       "      <td>0.286324</td>\n",
       "      <td>0.316723</td>\n",
       "      <td>1.000000</td>\n",
       "      <td>0.287346</td>\n",
       "      <td>0.128902</td>\n",
       "      <td>0.172951</td>\n",
       "      <td>0.365915</td>\n",
       "      <td>0.275806</td>\n",
       "    </tr>\n",
       "    <tr>\n",
       "      <th>lbph</th>\n",
       "      <td>0.063168</td>\n",
       "      <td>0.437042</td>\n",
       "      <td>0.287346</td>\n",
       "      <td>1.000000</td>\n",
       "      <td>-0.139147</td>\n",
       "      <td>-0.088535</td>\n",
       "      <td>0.032992</td>\n",
       "      <td>-0.030404</td>\n",
       "    </tr>\n",
       "    <tr>\n",
       "      <th>svi</th>\n",
       "      <td>0.592949</td>\n",
       "      <td>0.181054</td>\n",
       "      <td>0.128902</td>\n",
       "      <td>-0.139147</td>\n",
       "      <td>1.000000</td>\n",
       "      <td>0.671240</td>\n",
       "      <td>0.306875</td>\n",
       "      <td>0.481358</td>\n",
       "    </tr>\n",
       "    <tr>\n",
       "      <th>lcp</th>\n",
       "      <td>0.692043</td>\n",
       "      <td>0.156829</td>\n",
       "      <td>0.172951</td>\n",
       "      <td>-0.088535</td>\n",
       "      <td>0.671240</td>\n",
       "      <td>1.000000</td>\n",
       "      <td>0.476437</td>\n",
       "      <td>0.662533</td>\n",
       "    </tr>\n",
       "    <tr>\n",
       "      <th>gleason</th>\n",
       "      <td>0.426414</td>\n",
       "      <td>0.023558</td>\n",
       "      <td>0.365915</td>\n",
       "      <td>0.032992</td>\n",
       "      <td>0.306875</td>\n",
       "      <td>0.476437</td>\n",
       "      <td>1.000000</td>\n",
       "      <td>0.757056</td>\n",
       "    </tr>\n",
       "    <tr>\n",
       "      <th>pgg45</th>\n",
       "      <td>0.483161</td>\n",
       "      <td>0.074166</td>\n",
       "      <td>0.275806</td>\n",
       "      <td>-0.030404</td>\n",
       "      <td>0.481358</td>\n",
       "      <td>0.662533</td>\n",
       "      <td>0.757056</td>\n",
       "      <td>1.000000</td>\n",
       "    </tr>\n",
       "  </tbody>\n",
       "</table>\n",
       "</div>"
      ],
      "text/plain": [
       "           lcavol   lweight       age      lbph       svi       lcp   gleason  \\\n",
       "lcavol   1.000000  0.300232  0.286324  0.063168  0.592949  0.692043  0.426414   \n",
       "lweight  0.300232  1.000000  0.316723  0.437042  0.181054  0.156829  0.023558   \n",
       "age      0.286324  0.316723  1.000000  0.287346  0.128902  0.172951  0.365915   \n",
       "lbph     0.063168  0.437042  0.287346  1.000000 -0.139147 -0.088535  0.032992   \n",
       "svi      0.592949  0.181054  0.128902 -0.139147  1.000000  0.671240  0.306875   \n",
       "lcp      0.692043  0.156829  0.172951 -0.088535  0.671240  1.000000  0.476437   \n",
       "gleason  0.426414  0.023558  0.365915  0.032992  0.306875  0.476437  1.000000   \n",
       "pgg45    0.483161  0.074166  0.275806 -0.030404  0.481358  0.662533  0.757056   \n",
       "\n",
       "            pgg45  \n",
       "lcavol   0.483161  \n",
       "lweight  0.074166  \n",
       "age      0.275806  \n",
       "lbph    -0.030404  \n",
       "svi      0.481358  \n",
       "lcp      0.662533  \n",
       "gleason  0.757056  \n",
       "pgg45    1.000000  "
      ]
     },
     "execution_count": 7,
     "metadata": {},
     "output_type": "execute_result"
    }
   ],
   "source": [
    "# correlation matrix using pandas (tab. 3.1)\n",
    "df[train][features].corr()"
   ]
  },
  {
   "cell_type": "code",
   "execution_count": 8,
   "metadata": {},
   "outputs": [
    {
     "name": "stdout",
     "output_type": "stream",
     "text": [
      "Base error rate:  1.0567332280603818\n"
     ]
    }
   ],
   "source": [
    "# base error rate by simply predicting the mean\n",
    "dummy_model = DummyRegression()\n",
    "dummy_model.fit(X_train, y_train)\n",
    "base_error_rate = mean_squared_error(y_test, dummy_model.predict(X_test))\n",
    "print('Base error rate: ', base_error_rate)"
   ]
  },
  {
   "cell_type": "code",
   "execution_count": 9,
   "metadata": {},
   "outputs": [],
   "source": [
    "# standardise for unit variance\n",
    "scaler = StandardScaler()\n",
    "scaler.fit(X_train)\n",
    "X_train = scaler.transform(X_train)\n",
    "X_test = scaler.transform(X_test)"
   ]
  },
  {
   "attachments": {},
   "cell_type": "markdown",
   "metadata": {},
   "source": [
    "# Compute linear regression and some statistics"
   ]
  },
  {
   "cell_type": "code",
   "execution_count": 10,
   "metadata": {},
   "outputs": [
    {
     "name": "stdout",
     "output_type": "stream",
     "text": [
      "Intercept \t 2.4523450850746276\n",
      "lcavol \t 0.7110405922561779\n",
      "lweight \t 0.2904502919864316\n",
      "age \t -0.14148182348942576\n",
      "lbph \t 0.210419510184796\n",
      "svi \t 0.3073002529718587\n",
      "lcp \t -0.28684074913663926\n",
      "gleason \t -0.020756862036926726\n",
      "pgg45 \t 0.27526842547776587\n"
     ]
    }
   ],
   "source": [
    "# The difference in parameters compared to Tab 3.2 in ESL is due to standardising the data only on the training data,\n",
    "# rather than the whole dataset, as done in the book. This propagates to later results\n",
    "linear_model = LinearRegression()\n",
    "linear_model.fit(X_train, y_train)\n",
    "beta_names = ['Intercept'] + features\n",
    "for i in range(len(beta_names)):\n",
    "    print(beta_names[i], '\\t', linear_model.beta_hat[i])"
   ]
  },
  {
   "cell_type": "code",
   "execution_count": 11,
   "metadata": {},
   "outputs": [
    {
     "name": "stdout",
     "output_type": "stream",
     "text": [
      "[0.08701959 0.13250132 0.10558798 0.10135462 0.1023518  0.12445059\n",
      " 0.15364444 0.14151003 0.1583969 ]\n"
     ]
    }
   ],
   "source": [
    "# standard errors\n",
    "X_tmp = np.insert(X_train, 0, 1, axis=1)\n",
    "vary = np.sum((y_train - linear_model.predict(X_train))**2)/(len(y_train)-len(features)-1)\n",
    "errs = np.sqrt(np.diagonal(spl.inv(X_tmp.T @ X_tmp)) * vary)\n",
    "print(errs)"
   ]
  },
  {
   "cell_type": "code",
   "execution_count": 12,
   "metadata": {},
   "outputs": [
    {
     "name": "stdout",
     "output_type": "stream",
     "text": [
      "[28.18152744197761, 5.3662904561505105, 2.750789389869384, -1.3959089818189574, 2.0558456259309086, 2.4692551777938414, -1.8669126353948038, -0.14668120644371685, 1.737839719569908]\n"
     ]
    }
   ],
   "source": [
    "# z score\n",
    "z = []\n",
    "for i in range(len(beta_names)):\n",
    "    z.append(linear_model.beta_hat[i]/errs[i])\n",
    "print(z)"
   ]
  },
  {
   "cell_type": "code",
   "execution_count": 13,
   "metadata": {},
   "outputs": [
    {
     "name": "stdout",
     "output_type": "stream",
     "text": [
      "Term            Coeff    Std. Err      Z Score\n",
      "-----------------------------------------------\n",
      " Intercept      2.45     0.09          28.18\n",
      "    lcavol      0.71     0.13           5.37\n",
      "   lweight      0.29     0.11           2.75\n",
      "       age     -0.14     0.10          -1.40\n",
      "      lbph      0.21     0.10           2.06\n",
      "       svi      0.31     0.12           2.47\n",
      "       lcp     -0.29     0.15          -1.87\n",
      "   gleason     -0.02     0.14          -0.15\n",
      "     pgg45      0.28     0.16           1.74\n"
     ]
    }
   ],
   "source": [
    "result = zip(beta_names, linear_model.beta_hat, errs, z)\n",
    "print('Term            Coeff    Std. Err      Z Score')\n",
    "print('-----------------------------------------------')\n",
    "for term, coefficient, std_err, z_score in result:\n",
    "    print(f'{term:>10}{coefficient:>10.2f}{std_err:>9.2f}{z_score:>15.2f}')"
   ]
  },
  {
   "cell_type": "code",
   "execution_count": 14,
   "metadata": {},
   "outputs": [
    {
     "name": "stdout",
     "output_type": "stream",
     "text": [
      "Prediction error     0.52\n",
      "Base error           1.06\n"
     ]
    }
   ],
   "source": [
    "# prediction error\n",
    "pred_err = mean_squared_error(linear_model.predict(X_test), y_test)\n",
    "print(f'{\"Prediction error\":20}{pred_err:5.2f}')\n",
    "print(f'{\"Base error\":20}{base_error_rate:5.2f}')"
   ]
  },
  {
   "cell_type": "code",
   "execution_count": 15,
   "metadata": {},
   "outputs": [
    {
     "name": "stdout",
     "output_type": "stream",
     "text": [
      "Dropping:  ['age' 'lcp' 'gleason' 'pgg45']\n",
      "F = 1.67\n",
      "p-value = 0.17\n"
     ]
    }
   ],
   "source": [
    "# F score from dropping age, lcp, gleason, pgg45 (the features with lowest absolute z-score)\n",
    "N = len(y_train)\n",
    "RSS1 = mean_squared_error(linear_model.predict(X_train), y_train) * N\n",
    "betas0 = linear_model.beta_hat.copy()\n",
    "indxs = list(np.where(np.array(np.abs(z)) < 2)[0])\n",
    "print('Dropping: ', np.array(beta_names)[indxs])\n",
    "features0 = features.copy()\n",
    "for i in indxs:\n",
    "    features0.remove(beta_names[i])\n",
    "X0_train = df[features0].values[train]\n",
    "linear_model0 = LinearRegression()\n",
    "linear_model0.fit(X0_train, y_train)\n",
    "RSS0 = mean_squared_error(linear_model0.predict(X0_train), y_train) * N\n",
    "p1 = 9\n",
    "p0 = 5\n",
    "F = ((RSS0-RSS1)/(p1-p0))/(RSS1/(N-p1))\n",
    "Fdist = sps.f(p1-p0,N-p1-1)\n",
    "p_val = Fdist.sf(F)\n",
    "print(f'{\"F = \"}{F:.2f}')\n",
    "print(f'{\"p-value = \"}{p_val:.2f}')"
   ]
  },
  {
   "attachments": {},
   "cell_type": "markdown",
   "metadata": {},
   "source": [
    "Thus we cannot reject the null hypothesis (of setting the four features with lowest absolute z-score to zero) as the p=0.05 level."
   ]
  },
  {
   "attachments": {},
   "cell_type": "markdown",
   "metadata": {},
   "source": [
    "# Cross Validation and model selection"
   ]
  },
  {
   "cell_type": "code",
   "execution_count": 16,
   "metadata": {},
   "outputs": [
    {
     "name": "stdout",
     "output_type": "stream",
     "text": [
      "0.6454912933997935\n",
      "0.25895932044959513\n"
     ]
    }
   ],
   "source": [
    "# An example to show the cross validation for linear regression model\n",
    "cv_splits = cross_validation_split(X_train, y_train, 10)\n",
    "errs = []\n",
    "for split in cv_splits:\n",
    "    linear_model = LinearRegression()\n",
    "    linear_model.fit(split['train']['X'], split['train']['y'])\n",
    "    errs.append(mean_squared_error(split['test']['y'], linear_model.predict(split['test']['X'])))\n",
    "\n",
    "    \n",
    "print(np.mean(errs))\n",
    "print(np.std(errs))"
   ]
  },
  {
   "attachments": {},
   "cell_type": "markdown",
   "metadata": {},
   "source": [
    "# Subset Selection"
   ]
  },
  {
   "cell_type": "code",
   "execution_count": 17,
   "metadata": {},
   "outputs": [],
   "source": [
    "def best_subset(\n",
    "    model: LinearRegression,\n",
    "    X_train: np.array,\n",
    "    y_train: np.array,\n",
    "    k: int = 1\n",
    ") -> tuple[tuple[float], tuple[int]]:\n",
    "    \"\"\"\n",
    "    Performs cross-validation for all possible models with subset k of the parameters.\n",
    "    \n",
    "    Args:\n",
    "        model   (LinearRegression): a model which has methods fit(X, y) and predict(X, y)\n",
    "        trainX          (np.array): input data\n",
    "        trainY          (np.array): target data\n",
    "        k                    (int): number of parameters in subset.\n",
    "\n",
    "    Returns:\n",
    "        tuple of (mean, std err) for the model with the best mean error, and tuple of indices of the k parameters\n",
    "    \"\"\"\n",
    "    p = X_train.shape[1]\n",
    "    if k > p:\n",
    "        raise ValueError('subset length cannot exceed number of parameters')\n",
    "    cv_means = []\n",
    "    cv_stds = []\n",
    "\n",
    "    subsets = list(combinations(range(p), k))\n",
    "    \n",
    "    for subset in subsets:\n",
    "        X_tmp = X_train[:,subset]\n",
    "\n",
    "        # Perform 10-fold cross-validation and record the mean and std\n",
    "        cv_splits = cross_validation_split(X_tmp, y_train, 10)\n",
    "        errs = []\n",
    "        for split in cv_splits:\n",
    "            model.fit(split['train']['X'], split['train']['y'])\n",
    "            errs.append(mean_squared_error(split['test']['y'], model.predict(split['test']['X'])))\n",
    "        \n",
    "        cv_means.append(np.mean(errs))\n",
    "        cv_stds.append(np.std(errs))\n",
    "\n",
    "    best_idx = np.argmin(cv_means)\n",
    "    return (cv_means[best_idx], cv_stds[best_idx]), subsets[best_idx]"
   ]
  },
  {
   "cell_type": "code",
   "execution_count": 18,
   "metadata": {},
   "outputs": [
    {
     "data": {
      "text/plain": [
       "((0.596919488464318, 0.31571516807778555), (0, 1, 2, 3, 4, 5, 6, 7))"
      ]
     },
     "execution_count": 18,
     "metadata": {},
     "output_type": "execute_result"
    }
   ],
   "source": [
    "model = LinearRegression()\n",
    "best_subset(model, X_train, y_train, 8)"
   ]
  },
  {
   "cell_type": "code",
   "execution_count": 19,
   "metadata": {},
   "outputs": [
    {
     "data": {
      "text/plain": [
       "[1.4825811208827062,\n",
       " 0.6994157632908438,\n",
       " 0.6040844541221445,\n",
       " 0.5868058368388669,\n",
       " 0.5307830276373661,\n",
       " 0.5557246715876422,\n",
       " 0.491694310495848,\n",
       " 0.5404020307290691,\n",
       " 0.6501568506122102]"
      ]
     },
     "execution_count": 19,
     "metadata": {},
     "output_type": "execute_result"
    }
   ],
   "source": [
    "model = LinearRegression()\n",
    "cv_means = []\n",
    "cv_stds = []\n",
    "for i in range(1,9):\n",
    "    best = best_subset(model, X_train, y_train, i)\n",
    "    cv_means.append(best[0][0])\n",
    "    cv_stds.append(best[0][1])\n",
    "\n",
    "dummy_model = DummyRegression()\n",
    "cv_splits = cross_validation_split(X_train, y_train, 10)\n",
    "dummy_errs = []\n",
    "for split in cv_splits:\n",
    "    dummy_model.fit(split['train']['X'], split['train']['y'])\n",
    "    dummy_errs.append(mean_squared_error(split['test']['y'], dummy_model.predict(split['test']['X'])))\n",
    "cv_means.insert(0, np.mean(dummy_errs))\n",
    "cv_stds.insert(0, np.std(dummy_errs))\n",
    "\n",
    "cv_means"
   ]
  },
  {
   "cell_type": "code",
   "execution_count": 20,
   "metadata": {},
   "outputs": [
    {
     "data": {
      "image/png": "[encoded data removed]",
      "text/plain": [
       "<Figure size 288x216 with 1 Axes>"
      ]
     },
     "metadata": {
      "needs_background": "light"
     },
     "output_type": "display_data"
    }
   ],
   "source": [
    "fig_subset = plot_cv_results(cv_means, cv_stds, list(range(0,9)), 'Subset Size')"
   ]
  },
  {
   "attachments": {},
   "cell_type": "markdown",
   "metadata": {},
   "source": [
    "# Ridge Regression"
   ]
  },
  {
   "cell_type": "code",
   "execution_count": 21,
   "metadata": {},
   "outputs": [
    {
     "name": "stdout",
     "output_type": "stream",
     "text": [
      "[ 2.45234509  0.66252159  0.28848496 -0.12759168  0.20638182  0.29640171\n",
      " -0.22642941 -0.00355767  0.23994133]\n"
     ]
    }
   ],
   "source": [
    "ridge_regressor0 = RidgeRegression(lam=2)\n",
    "ridge_regressor0.fit(X_train, y_train)\n",
    "mean_squared_error(ridge_regressor0.predict(X_test), y_test)\n",
    "print(ridge_regressor0.beta_hat)"
   ]
  },
  {
   "cell_type": "code",
   "execution_count": 22,
   "metadata": {},
   "outputs": [
    {
     "data": {
      "text/plain": [
       "7.521731912539558"
      ]
     },
     "execution_count": 22,
     "metadata": {},
     "output_type": "execute_result"
    }
   ],
   "source": [
    "# Define number of degrees of freedom\n",
    "def df(lam, d):\n",
    "    return np.sum(d**2/(d**2+lam))\n",
    "\n",
    "d = spl.svdvals(X_train)\n",
    "df(2, d)"
   ]
  },
  {
   "cell_type": "code",
   "execution_count": 23,
   "metadata": {},
   "outputs": [
    {
     "name": "stdout",
     "output_type": "stream",
     "text": [
      "[412.5108525273101, 156.6347870643663, 77.88075522290428, 42.24676320927057, 23.122008690980213, 11.80290089399027, 4.674120492002074, -9.254860797469404e-17]\n",
      "1.0\n",
      "2.000000000000008\n",
      "3.0000000000000084\n",
      "3.9999999999999996\n",
      "5.0\n",
      "6.000000000000001\n",
      "7.0\n",
      "8.0\n"
     ]
    }
   ],
   "source": [
    "# Find the value of lambda that give a specific number of degrees of freedom\n",
    "def df_root(lam, *val):\n",
    "    return df(lam, d)-val[0]\n",
    "\n",
    "lambdas = []\n",
    "for i in range(1, 9):\n",
    "    lambdas.append(spo.fsolve(df_root, 1, args=(i,))[0])\n",
    "print(lambdas)\n",
    "for l in lambdas:\n",
    "    print(df(l, d))"
   ]
  },
  {
   "cell_type": "code",
   "execution_count": 37,
   "metadata": {},
   "outputs": [],
   "source": [
    "cv_means_ridge = []\n",
    "cv_stds_ridge = []\n",
    "for l in lambdas:\n",
    "    ridge_regressor = RidgeRegression(l)\n",
    "    # Perform 10-fold cross-validation and record the mean and std\n",
    "    cv_splits = cross_validation_split(X_train, y_train, 10)\n",
    "    errs = []\n",
    "    for split in cv_splits:\n",
    "        ridge_regressor.fit(split['train']['X'], split['train']['y'])\n",
    "        errs.append(mean_squared_error(split['test']['y'], ridge_regressor.predict(split['test']['X'])))\n",
    "        \n",
    "    cv_means_ridge.append(np.mean(errs))\n",
    "    cv_stds_ridge.append(np.std(errs))\n",
    "    \n",
    "dummy_model = DummyRegression()\n",
    "cv_splits = cross_validation_split(X_train, y_train, 10)\n",
    "dummy_errs = []\n",
    "for split in cv_splits:\n",
    "    dummy_model.fit(split['train']['X'], split['train']['y'])\n",
    "    dummy_errs.append(mean_squared_error(split['test']['y'], dummy_model.predict(split['test']['X'])))\n",
    "cv_means_ridge.insert(0, np.mean(dummy_errs))\n",
    "cv_stds_ridge.insert(0, np.std(dummy_errs))"
   ]
  },
  {
   "cell_type": "code",
   "execution_count": 39,
   "metadata": {},
   "outputs": [
    {
     "data": {
      "image/png": "[encoded data removed]",
      "text/plain": [
       "<Figure size 288x216 with 1 Axes>"
      ]
     },
     "metadata": {
      "needs_background": "light"
     },
     "output_type": "display_data"
    }
   ],
   "source": [
    "fig_ridge = plot_cv_results(cv_means_ridge, cv_stds_ridge, list(range(0,9)), 'Degrees of Freedom')"
   ]
  },
  {
   "cell_type": "code",
   "execution_count": 26,
   "metadata": {},
   "outputs": [
    {
     "data": {
      "text/plain": [
       "Text(0, 0.5, 'Coefficient')"
      ]
     },
     "execution_count": 26,
     "metadata": {},
     "output_type": "execute_result"
    },
    {
     "data": {
      "image/png": "[encoded data removed]",
      "text/plain": [
       "<Figure size 432x288 with 1 Axes>"
      ]
     },
     "metadata": {
      "needs_background": "light"
     },
     "output_type": "display_data"
    }
   ],
   "source": [
    "# Find how the coefficient values are affected by the number of degrees of freedom\n",
    "lambdas = np.logspace(-5,10,100)\n",
    "dfs = []\n",
    "coeffs = []\n",
    "for l in lambdas:\n",
    "    dfs.append(df(l, d))\n",
    "    ridge_model = RidgeRegression(l)\n",
    "    ridge_model.fit(X_train, y_train)\n",
    "    coeffs.append(ridge_model.beta_hat[1:])\n",
    "\n",
    "fig, ax = plt.subplots()\n",
    "for i in range(len(coeffs[0])):\n",
    "    ax.plot(dfs,[coeff[i] for coeff in coeffs],label=beta_names[1:][i])\n",
    "ax.legend()\n",
    "ax.set_xlabel('Degrees of freedom')\n",
    "ax.set_ylabel('Coefficient')"
   ]
  },
  {
   "attachments": {},
   "cell_type": "markdown",
   "metadata": {},
   "source": [
    "# Lasso"
   ]
  },
  {
   "cell_type": "code",
   "execution_count": 27,
   "metadata": {},
   "outputs": [
    {
     "name": "stdout",
     "output_type": "stream",
     "text": [
      "0.833297078096173\n"
     ]
    },
    {
     "data": {
      "text/plain": [
       "0.48983733107550737"
      ]
     },
     "execution_count": 27,
     "metadata": {},
     "output_type": "execute_result"
    }
   ],
   "source": [
    "lasso = LassoRegression(15)\n",
    "lasso.fit(X_train, y_train)\n",
    "print(sum(np.abs(lasso.beta_hat[1:])))\n",
    "mean_squared_error(lasso.predict(X_test), y_test)"
   ]
  },
  {
   "cell_type": "code",
   "execution_count": 52,
   "metadata": {},
   "outputs": [
    {
     "name": "stdout",
     "output_type": "stream",
     "text": [
      "[0.6155492209528501, 0.6175371215046765, 0.6280301737297658, 0.50535255940321, 0.5807103611808508, 0.5745393510603978, 0.555741722177556]\n"
     ]
    }
   ],
   "source": [
    "cv_means_lasso = []\n",
    "cv_stds_lasso = []\n",
    "# lambdas = [0.680, 0.380, 0.309, 0.100, 0.044, 0.027, 0.012, 0.001]\n",
    "# lambdas = [0.680, 0.380, 0.209, 0.100, 0.044, 0.027, 0.012, 0.001]\n",
    "lambdas = [5.0, 4.6, 3.45, 2.35, 1.3, 0.2, 0.1]\n",
    "t = []\n",
    "#lambdas = [65, 55, 45, 38, 31, 27, 20, 15, 9]\n",
    "for l in lambdas:\n",
    "    lasso_regressor = LassoRegression(l)\n",
    "    cv_splits = cross_validation_split(X_train, y_train, 10)\n",
    "    errs = []\n",
    "    for split in cv_splits:\n",
    "        lasso_regressor.fit(split['train']['X'], split['train']['y'], num_epochs=1500, learning_rate=0.001)\n",
    "        errs.append(mean_squared_error(split['test']['y'], lasso_regressor.predict(split['test']['X'])))\n",
    "        \n",
    "    cv_means_lasso.append(np.mean(errs))\n",
    "    cv_stds_lasso.append(np.std(errs))\n",
    "    t.append(sum(np.abs(lasso_regressor.beta_hat[1:])))\n",
    "print(cv_means_lasso)\n",
    "cv_means_lasso = [x for _, x in sorted(zip(t, cv_means_lasso))]\n",
    "cv_stds_lasso = [x for _, x in sorted(zip(t, cv_stds_lasso))]\n",
    "t = sorted(t)\n",
    "\n",
    "dummy_model = DummyRegression()\n",
    "cv_splits = cross_validation_split(X_train, y_train, 10)\n",
    "dummy_errs = []\n",
    "for split in cv_splits:\n",
    "    dummy_model.fit(split['train']['X'], split['train']['y'])\n",
    "    dummy_errs.append(mean_squared_error(split['test']['y'], dummy_model.predict(split['test']['X'])))\n",
    "cv_means_lasso.insert(0, np.mean(dummy_errs))\n",
    "cv_stds_lasso.insert(0, np.std(dummy_errs))\n",
    "t.insert(0, 0.)"
   ]
  },
  {
   "cell_type": "code",
   "execution_count": 53,
   "metadata": {},
   "outputs": [
    {
     "data": {
      "image/png": "[encoded data removed]",
      "text/plain": [
       "<Figure size 288x216 with 1 Axes>"
      ]
     },
     "metadata": {
      "needs_background": "light"
     },
     "output_type": "display_data"
    }
   ],
   "source": [
    "fig_lasso = plot_cv_results(cv_means_lasso, cv_stds_lasso, t, 'Shrinkage Factor')"
   ]
  },
  {
   "attachments": {},
   "cell_type": "markdown",
   "metadata": {},
   "source": [
    "#"
   ]
  },
  {
   "attachments": {},
   "cell_type": "markdown",
   "metadata": {},
   "source": [
    "# PCA Regression"
   ]
  },
  {
   "cell_type": "code",
   "execution_count": 30,
   "metadata": {},
   "outputs": [
    {
     "data": {
      "text/plain": [
       "0.5212740055076007"
      ]
     },
     "execution_count": 30,
     "metadata": {},
     "output_type": "execute_result"
    }
   ],
   "source": [
    "pcr = PrincipalComponentsRegression(8)\n",
    "pcr.fit(X_train, y_train)\n",
    "mean_squared_error(pcr.predict(X_test), y_test)"
   ]
  },
  {
   "cell_type": "code",
   "execution_count": 54,
   "metadata": {},
   "outputs": [
    {
     "name": "stdout",
     "output_type": "stream",
     "text": [
      "[1.533890848135861, 0.9107722748136873, 0.7492282715358112, 0.7422551712739003, 0.6815476657211608, 0.8054216960261726, 0.7639277472715797, 0.5963189371850293, 0.5626636835269996]\n"
     ]
    }
   ],
   "source": [
    "cv_means_pcr = []\n",
    "cv_stds_pcr = []\n",
    "ks = range(1,9)\n",
    "for k in ks:\n",
    "    pcr = PrincipalComponentsRegression(k)\n",
    "    cv_splits = cross_validation_split(X_train, y_train, 10)\n",
    "    errs = []\n",
    "    for split in cv_splits:\n",
    "        pcr.fit(split['train']['X'], split['train']['y'])\n",
    "        errs.append(mean_squared_error(split['test']['y'], pcr.predict(split['test']['X'])))\n",
    "        \n",
    "    cv_means_pcr.append(np.mean(errs))\n",
    "    cv_stds_pcr.append(np.std(errs))\n",
    "        \n",
    "dummy_model = DummyRegression()\n",
    "cv_splits = cross_validation_split(X_train, y_train, 10)\n",
    "dummy_errs = []\n",
    "for split in cv_splits:\n",
    "    dummy_model.fit(split['train']['X'], split['train']['y'])\n",
    "    dummy_errs.append(mean_squared_error(split['test']['y'], dummy_model.predict(split['test']['X'])))\n",
    "cv_means_pcr.insert(0, np.mean(dummy_errs))\n",
    "cv_stds_pcr.insert(0, np.std(dummy_errs))\n",
    "\n",
    "print(cv_means_pcr)"
   ]
  },
  {
   "cell_type": "code",
   "execution_count": 56,
   "metadata": {},
   "outputs": [
    {
     "data": {
      "image/png": "[encoded data removed]",
      "text/plain": [
       "<Figure size 288x216 with 1 Axes>"
      ]
     },
     "metadata": {
      "needs_background": "light"
     },
     "output_type": "display_data"
    }
   ],
   "source": [
    "fig_pcr_skl = plot_cv_results(cv_means_pcr, cv_stds_pcr, list(range(0,9)), 'Number of PCs')"
   ]
  },
  {
   "attachments": {},
   "cell_type": "markdown",
   "metadata": {},
   "source": [
    "# Partial Least Squares Regression"
   ]
  },
  {
   "cell_type": "code",
   "execution_count": 34,
   "metadata": {},
   "outputs": [
    {
     "data": {
      "text/plain": [
       "0.5369878153712347"
      ]
     },
     "execution_count": 34,
     "metadata": {},
     "output_type": "execute_result"
    }
   ],
   "source": [
    "pls = PartialLeastSquaresRegression(1)\n",
    "pls.fit(X_train, y_train)\n",
    "mean_squared_error(pls.predict(X_test), y_test)"
   ]
  },
  {
   "cell_type": "code",
   "execution_count": 57,
   "metadata": {},
   "outputs": [
    {
     "name": "stdout",
     "output_type": "stream",
     "text": [
      "[0.5959651060110811, 0.6722840728548332, 0.7088827293775821, 0.6315829996053589, 0.616990003359033, 0.6694180209688911, 0.6318321128567252, 0.6197343229787095]\n"
     ]
    }
   ],
   "source": [
    "cv_means_pls = []\n",
    "cv_stds_pls = []\n",
    "ks = range(1,9)\n",
    "for k in ks:\n",
    "    pls = PartialLeastSquaresRegression(k)\n",
    "    cv_splits = cross_validation_split(X_train, y_train, 10)\n",
    "    errs = []\n",
    "    for split in cv_splits:\n",
    "        pls.fit(split['train']['X'], split['train']['y'])\n",
    "        errs.append(mean_squared_error(split['test']['y'], pls.predict(split['test']['X'])))\n",
    "        \n",
    "    cv_means_pls.append(np.mean(errs))\n",
    "    cv_stds_pls.append(np.std(errs))\n",
    "        \n",
    "print(cv_means_pls)\n",
    "\n",
    "dummy_model = DummyRegression()\n",
    "cv_splits = cross_validation_split(X_train, y_train, 10)\n",
    "dummy_errs = []\n",
    "for split in cv_splits:\n",
    "    dummy_model.fit(split['train']['X'], split['train']['y'])\n",
    "    dummy_errs.append(mean_squared_error(split['test']['y'], dummy_model.predict(split['test']['X'])))\n",
    "cv_means_pls.insert(0, np.mean(dummy_errs))\n",
    "cv_stds_pls.insert(0, np.std(dummy_errs))"
   ]
  },
  {
   "cell_type": "code",
   "execution_count": 59,
   "metadata": {},
   "outputs": [
    {
     "data": {
      "image/png": "[encoded data removed]",
      "text/plain": [
       "<Figure size 288x216 with 1 Axes>"
      ]
     },
     "metadata": {
      "needs_background": "light"
     },
     "output_type": "display_data"
    }
   ],
   "source": [
    "fig_pls = plot_cv_results(cv_means_pls, cv_stds_pls, list(range(0,9)), 'Number of Directions')"
   ]
  },
  {
   "cell_type": "code",
   "execution_count": null,
   "metadata": {},
   "outputs": [],
   "source": []
  }
 ],
 "metadata": {
  "kernelspec": {
   "display_name": "Python 3.9.7 ('ml')",
   "language": "python",
   "name": "python3"
  },
  "language_info": {
   "codemirror_mode": {
    "name": "ipython",
    "version": 3
   },
   "file_extension": ".py",
   "mimetype": "text/x-python",
   "name": "python",
   "nbconvert_exporter": "python",
   "pygments_lexer": "ipython3",
   "version": "3.9.7"
  },
  "orig_nbformat": 4,
  "vscode": {
   "interpreter": {
    "hash": "6d8c4c00aaea375f51ce0b653b564afd785a1adeeea68437cfc9eb80186c48f8"
   }
  }
 },
 "nbformat": 4,
 "nbformat_minor": 2
}
