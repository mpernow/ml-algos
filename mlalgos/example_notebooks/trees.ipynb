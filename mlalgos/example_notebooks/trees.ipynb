{
 "cells": [
  {
   "attachments": {},
   "cell_type": "markdown",
   "metadata": {},
   "source": [
    "# Decision Trees"
   ]
  },
  {
   "attachments": {},
   "cell_type": "markdown",
   "metadata": {},
   "source": [
    "A notebook reproducing some of the examples from section 9.2 of ESL."
   ]
  },
  {
   "cell_type": "code",
   "execution_count": 1,
   "metadata": {},
   "outputs": [],
   "source": [
    "import matplotlib.pyplot as plt\n",
    "import numpy as np\n",
    "import pandas\n",
    "from pathlib import Path"
   ]
  },
  {
   "cell_type": "code",
   "execution_count": 2,
   "metadata": {},
   "outputs": [],
   "source": [
    "from mlalgos.supervised_learning.decision_trees import ClassificationTreePruned\n",
    "from mlalgos.utils.error_funcs import misclassification_error, gini_index, cross_entropy, mean_squared_error\n",
    "from mlalgos.utils.data_utils import cross_validation_split\n",
    "from mlalgos.utils.plotting import plot_cv_results"
   ]
  },
  {
   "attachments": {},
   "cell_type": "markdown",
   "metadata": {},
   "source": [
    "## Import spam data"
   ]
  },
  {
   "cell_type": "code",
   "execution_count": 3,
   "metadata": {},
   "outputs": [],
   "source": [
    "home = str(Path.home())\n",
    "data_dir = home + '/datasets/spam/'\n",
    "spam_data_file = 'spambase.data'\n",
    "spam_train_test_file = 'spam.traintest'"
   ]
  },
  {
   "cell_type": "code",
   "execution_count": 4,
   "metadata": {},
   "outputs": [],
   "source": [
    "col_names = [\"word_freq_make\",\n",
    "\"word_freq_address\",\n",
    "\"word_freq_all\",\n",
    "\"word_freq_3d\",\n",
    "\"word_freq_our\",\n",
    "\"word_freq_over\",\n",
    "\"word_freq_remove\",\n",
    "\"word_freq_internet\",\n",
    "\"word_freq_order\",\n",
    "\"word_freq_mail\",\n",
    "\"word_freq_receive\",\n",
    "\"word_freq_will\",\n",
    "\"word_freq_people\",\n",
    "\"word_freq_report\",\n",
    "\"word_freq_addresses\",\n",
    "\"word_freq_free\",\n",
    "\"word_freq_business\",\n",
    "\"word_freq_email\",\n",
    "\"word_freq_you\",\n",
    "\"word_freq_credit\",\n",
    "\"word_freq_your\",\n",
    "\"word_freq_font\",\n",
    "\"word_freq_000\",\n",
    "\"word_freq_money\",\n",
    "\"word_freq_hp\",\n",
    "\"word_freq_hpl\",\n",
    "\"word_freq_george\",\n",
    "\"word_freq_650\",\n",
    "\"word_freq_lab\",\n",
    "\"word_freq_labs\",\n",
    "\"word_freq_telnet\",\n",
    "\"word_freq_857\",\n",
    "\"word_freq_data\",\n",
    "\"word_freq_415\",\n",
    "\"word_freq_85\",\n",
    "\"word_freq_technology\",\n",
    "\"word_freq_1999\",\n",
    "\"word_freq_parts\",\n",
    "\"word_freq_pm\",\n",
    "\"word_freq_direct\",\n",
    "\"word_freq_cs\",\n",
    "\"word_freq_meeting\",\n",
    "\"word_freq_original\",\n",
    "\"word_freq_project\",\n",
    "\"word_freq_re\",\n",
    "\"word_freq_edu\",\n",
    "\"word_freq_table\",\n",
    "\"word_freq_conference\",\n",
    "\"char_freq_;\",\n",
    "\"char_freq_(\",\n",
    "\"char_freq_[\",\n",
    "\"char_freq_!\",\n",
    "\"char_freq_$\",\n",
    "\"char_freq_#\",\n",
    "\"capital_run_length_average\",\n",
    "\"capital_run_length_longest\",\n",
    "\"capital_run_length_total\",\n",
    "\"spam\"]"
   ]
  },
  {
   "cell_type": "code",
   "execution_count": 5,
   "metadata": {},
   "outputs": [],
   "source": [
    "spam_data = pandas.read_csv(data_dir + spam_data_file, sep=\",\", header=None)\n",
    "spam_data.columns = col_names"
   ]
  },
  {
   "cell_type": "code",
   "execution_count": 6,
   "metadata": {},
   "outputs": [
    {
     "data": {
      "text/html": [
       "<div>\n",
       "<style scoped>\n",
       "    .dataframe tbody tr th:only-of-type {\n",
       "        vertical-align: middle;\n",
       "    }\n",
       "\n",
       "    .dataframe tbody tr th {\n",
       "        vertical-align: top;\n",
       "    }\n",
       "\n",
       "    .dataframe thead th {\n",
       "        text-align: right;\n",
       "    }\n",
       "</style>\n",
       "<table border=\"1\" class=\"dataframe\">\n",
       "  <thead>\n",
       "    <tr style=\"text-align: right;\">\n",
       "      <th></th>\n",
       "      <th>word_freq_make</th>\n",
       "      <th>word_freq_address</th>\n",
       "      <th>word_freq_all</th>\n",
       "      <th>word_freq_3d</th>\n",
       "      <th>word_freq_our</th>\n",
       "      <th>word_freq_over</th>\n",
       "      <th>word_freq_remove</th>\n",
       "      <th>word_freq_internet</th>\n",
       "      <th>word_freq_order</th>\n",
       "      <th>word_freq_mail</th>\n",
       "      <th>...</th>\n",
       "      <th>char_freq_;</th>\n",
       "      <th>char_freq_(</th>\n",
       "      <th>char_freq_[</th>\n",
       "      <th>char_freq_!</th>\n",
       "      <th>char_freq_$</th>\n",
       "      <th>char_freq_#</th>\n",
       "      <th>capital_run_length_average</th>\n",
       "      <th>capital_run_length_longest</th>\n",
       "      <th>capital_run_length_total</th>\n",
       "      <th>spam</th>\n",
       "    </tr>\n",
       "  </thead>\n",
       "  <tbody>\n",
       "    <tr>\n",
       "      <th>0</th>\n",
       "      <td>0.00</td>\n",
       "      <td>0.64</td>\n",
       "      <td>0.64</td>\n",
       "      <td>0.0</td>\n",
       "      <td>0.32</td>\n",
       "      <td>0.00</td>\n",
       "      <td>0.00</td>\n",
       "      <td>0.00</td>\n",
       "      <td>0.00</td>\n",
       "      <td>0.00</td>\n",
       "      <td>...</td>\n",
       "      <td>0.00</td>\n",
       "      <td>0.000</td>\n",
       "      <td>0.0</td>\n",
       "      <td>0.778</td>\n",
       "      <td>0.000</td>\n",
       "      <td>0.000</td>\n",
       "      <td>3.756</td>\n",
       "      <td>61</td>\n",
       "      <td>278</td>\n",
       "      <td>1</td>\n",
       "    </tr>\n",
       "    <tr>\n",
       "      <th>1</th>\n",
       "      <td>0.21</td>\n",
       "      <td>0.28</td>\n",
       "      <td>0.50</td>\n",
       "      <td>0.0</td>\n",
       "      <td>0.14</td>\n",
       "      <td>0.28</td>\n",
       "      <td>0.21</td>\n",
       "      <td>0.07</td>\n",
       "      <td>0.00</td>\n",
       "      <td>0.94</td>\n",
       "      <td>...</td>\n",
       "      <td>0.00</td>\n",
       "      <td>0.132</td>\n",
       "      <td>0.0</td>\n",
       "      <td>0.372</td>\n",
       "      <td>0.180</td>\n",
       "      <td>0.048</td>\n",
       "      <td>5.114</td>\n",
       "      <td>101</td>\n",
       "      <td>1028</td>\n",
       "      <td>1</td>\n",
       "    </tr>\n",
       "    <tr>\n",
       "      <th>2</th>\n",
       "      <td>0.06</td>\n",
       "      <td>0.00</td>\n",
       "      <td>0.71</td>\n",
       "      <td>0.0</td>\n",
       "      <td>1.23</td>\n",
       "      <td>0.19</td>\n",
       "      <td>0.19</td>\n",
       "      <td>0.12</td>\n",
       "      <td>0.64</td>\n",
       "      <td>0.25</td>\n",
       "      <td>...</td>\n",
       "      <td>0.01</td>\n",
       "      <td>0.143</td>\n",
       "      <td>0.0</td>\n",
       "      <td>0.276</td>\n",
       "      <td>0.184</td>\n",
       "      <td>0.010</td>\n",
       "      <td>9.821</td>\n",
       "      <td>485</td>\n",
       "      <td>2259</td>\n",
       "      <td>1</td>\n",
       "    </tr>\n",
       "    <tr>\n",
       "      <th>3</th>\n",
       "      <td>0.00</td>\n",
       "      <td>0.00</td>\n",
       "      <td>0.00</td>\n",
       "      <td>0.0</td>\n",
       "      <td>0.63</td>\n",
       "      <td>0.00</td>\n",
       "      <td>0.31</td>\n",
       "      <td>0.63</td>\n",
       "      <td>0.31</td>\n",
       "      <td>0.63</td>\n",
       "      <td>...</td>\n",
       "      <td>0.00</td>\n",
       "      <td>0.137</td>\n",
       "      <td>0.0</td>\n",
       "      <td>0.137</td>\n",
       "      <td>0.000</td>\n",
       "      <td>0.000</td>\n",
       "      <td>3.537</td>\n",
       "      <td>40</td>\n",
       "      <td>191</td>\n",
       "      <td>1</td>\n",
       "    </tr>\n",
       "    <tr>\n",
       "      <th>4</th>\n",
       "      <td>0.00</td>\n",
       "      <td>0.00</td>\n",
       "      <td>0.00</td>\n",
       "      <td>0.0</td>\n",
       "      <td>0.63</td>\n",
       "      <td>0.00</td>\n",
       "      <td>0.31</td>\n",
       "      <td>0.63</td>\n",
       "      <td>0.31</td>\n",
       "      <td>0.63</td>\n",
       "      <td>...</td>\n",
       "      <td>0.00</td>\n",
       "      <td>0.135</td>\n",
       "      <td>0.0</td>\n",
       "      <td>0.135</td>\n",
       "      <td>0.000</td>\n",
       "      <td>0.000</td>\n",
       "      <td>3.537</td>\n",
       "      <td>40</td>\n",
       "      <td>191</td>\n",
       "      <td>1</td>\n",
       "    </tr>\n",
       "  </tbody>\n",
       "</table>\n",
       "<p>5 rows × 58 columns</p>\n",
       "</div>"
      ],
      "text/plain": [
       "   word_freq_make  word_freq_address  word_freq_all  word_freq_3d  \\\n",
       "0            0.00               0.64           0.64           0.0   \n",
       "1            0.21               0.28           0.50           0.0   \n",
       "2            0.06               0.00           0.71           0.0   \n",
       "3            0.00               0.00           0.00           0.0   \n",
       "4            0.00               0.00           0.00           0.0   \n",
       "\n",
       "   word_freq_our  word_freq_over  word_freq_remove  word_freq_internet  \\\n",
       "0           0.32            0.00              0.00                0.00   \n",
       "1           0.14            0.28              0.21                0.07   \n",
       "2           1.23            0.19              0.19                0.12   \n",
       "3           0.63            0.00              0.31                0.63   \n",
       "4           0.63            0.00              0.31                0.63   \n",
       "\n",
       "   word_freq_order  word_freq_mail  ...  char_freq_;  char_freq_(  \\\n",
       "0             0.00            0.00  ...         0.00        0.000   \n",
       "1             0.00            0.94  ...         0.00        0.132   \n",
       "2             0.64            0.25  ...         0.01        0.143   \n",
       "3             0.31            0.63  ...         0.00        0.137   \n",
       "4             0.31            0.63  ...         0.00        0.135   \n",
       "\n",
       "   char_freq_[  char_freq_!  char_freq_$  char_freq_#  \\\n",
       "0          0.0        0.778        0.000        0.000   \n",
       "1          0.0        0.372        0.180        0.048   \n",
       "2          0.0        0.276        0.184        0.010   \n",
       "3          0.0        0.137        0.000        0.000   \n",
       "4          0.0        0.135        0.000        0.000   \n",
       "\n",
       "   capital_run_length_average  capital_run_length_longest  \\\n",
       "0                       3.756                          61   \n",
       "1                       5.114                         101   \n",
       "2                       9.821                         485   \n",
       "3                       3.537                          40   \n",
       "4                       3.537                          40   \n",
       "\n",
       "   capital_run_length_total  spam  \n",
       "0                       278     1  \n",
       "1                      1028     1  \n",
       "2                      2259     1  \n",
       "3                       191     1  \n",
       "4                       191     1  \n",
       "\n",
       "[5 rows x 58 columns]"
      ]
     },
     "execution_count": 6,
     "metadata": {},
     "output_type": "execute_result"
    }
   ],
   "source": [
    "spam_data.head()"
   ]
  },
  {
   "cell_type": "code",
   "execution_count": 7,
   "metadata": {},
   "outputs": [],
   "source": [
    "with open(data_dir + spam_train_test_file, 'r') as f:\n",
    "    traintest = f.readlines()\n",
    "traintest = [int(i[0]) for i in traintest]"
   ]
  },
  {
   "cell_type": "code",
   "execution_count": 8,
   "metadata": {},
   "outputs": [],
   "source": [
    "train_inds = [i for i in range(len(traintest)) if traintest[i] == 0]\n",
    "test_inds = [i for i in range(len(traintest)) if traintest[i] == 1]"
   ]
  },
  {
   "cell_type": "code",
   "execution_count": 9,
   "metadata": {},
   "outputs": [],
   "source": [
    "train_data = spam_data.iloc[train_inds]\n",
    "test_data = spam_data.iloc[test_inds]"
   ]
  },
  {
   "cell_type": "code",
   "execution_count": 10,
   "metadata": {},
   "outputs": [],
   "source": [
    "X_spam_train = train_data[col_names[:-1]].to_numpy()\n",
    "y_spam_train = train_data[col_names[-1]].to_numpy()\n",
    "X_spam_test = test_data[col_names[:-1]].to_numpy()\n",
    "y_spam_test = test_data[col_names[-1]].to_numpy()"
   ]
  },
  {
   "cell_type": "code",
   "execution_count": 11,
   "metadata": {},
   "outputs": [
    {
     "name": "stdout",
     "output_type": "stream",
     "text": [
      "0.08984375\n"
     ]
    }
   ],
   "source": [
    "classification_tree = ClassificationTreePruned(2)\n",
    "classification_tree.fit(X_spam_train, y_spam_train)\n",
    "y_predicted = classification_tree.predict(X_spam_test)\n",
    "print(misclassification_error(y_spam_test, y_predicted))"
   ]
  },
  {
   "cell_type": "code",
   "execution_count": 12,
   "metadata": {},
   "outputs": [],
   "source": [
    "cv_means_tree = []\n",
    "cv_stds_tree = []\n",
    "alphas = [0., 0.25, 0.5, 0.75, 1.0, 1.5, 2., 3., 4., 5., 7., 10.]\n",
    "number_leaves = []\n",
    "for a in alphas:\n",
    "    tree = ClassificationTreePruned(a, max_depth=1000)\n",
    "    # Perform 10-fold cross-validation and record the mean and std\n",
    "    cv_splits = cross_validation_split(X_spam_train, y_spam_train, 10)\n",
    "    errs = []\n",
    "    for split in cv_splits:\n",
    "        tree.reset()\n",
    "        tree.fit(split['train']['X'], split['train']['y'])\n",
    "        errs.append(misclassification_error(split['test']['y'], tree.predict(split['test']['X'])))\n",
    "    \n",
    "    # This will only be approximate since it may differ between trees\n",
    "    number_leaves.append(tree.get_number_terminal())\n",
    "        \n",
    "    cv_means_tree.append(np.mean(errs))\n",
    "    cv_stds_tree.append(np.std(errs))"
   ]
  },
  {
   "cell_type": "code",
   "execution_count": 13,
   "metadata": {},
   "outputs": [
    {
     "data": {
      "image/png": "[encoded data removed]",
      "text/plain": [
       "<Figure size 288x216 with 1 Axes>"
      ]
     },
     "metadata": {
      "needs_background": "light"
     },
     "output_type": "display_data"
    }
   ],
   "source": [
    "fig_subset = plot_cv_results(cv_means_tree, cv_stds_tree, alphas, 'Cost-complexity parameter')"
   ]
  },
  {
   "cell_type": "code",
   "execution_count": 14,
   "metadata": {},
   "outputs": [
    {
     "data": {
      "image/png": "[encoded data removed]",
      "text/plain": [
       "<Figure size 288x216 with 1 Axes>"
      ]
     },
     "metadata": {
      "needs_background": "light"
     },
     "output_type": "display_data"
    }
   ],
   "source": [
    "cv_means_sorted = [x for _, x in sorted(zip(number_leaves, cv_means_tree))]\n",
    "cv_stds_sorted = [x for _, x in sorted(zip(number_leaves, cv_stds_tree))]\n",
    "number_leaves = sorted(number_leaves)\n",
    "fig_subset = plot_cv_results(cv_means_sorted, cv_stds_sorted, number_leaves, 'Number of leaves')"
   ]
  },
  {
   "attachments": {},
   "cell_type": "markdown",
   "metadata": {},
   "source": [
    "## ROC Curve"
   ]
  },
  {
   "cell_type": "code",
   "execution_count": 15,
   "metadata": {},
   "outputs": [],
   "source": [
    "def custom_mode(\n",
    "    L01: float=1,\n",
    "    L10: float=1\n",
    ") -> callable:\n",
    "    \"\"\"\n",
    "    Modifies the Bayes rule for mode to return 1 if occurence of 1 > L01/(L01 + L10).\n",
    "    Large L01 favours the 0 class, wheras small L01 favors the 1 class\n",
    "    \"\"\"\n",
    "    def weighted_mode(y):\n",
    "        num_1 = np.sum(np.array(y)==1)\n",
    "        if num_1 / len(y) >= L01/(L01 + L10):\n",
    "            return np.array([1]) # This instead of just 1 for compatibility, so that we apply .item() to the result\n",
    "        else:\n",
    "            return np.array([0])\n",
    "    \n",
    "    return weighted_mode"
   ]
  },
  {
   "cell_type": "code",
   "execution_count": 16,
   "metadata": {},
   "outputs": [],
   "source": [
    "def specificity(y_true, y_pred):\n",
    "    y_true_neg = -1 * (np.array(y_true) - 1)\n",
    "    y_pred_neg = -1 * (np.array(y_pred) - 1)\n",
    "    true_pos = np.sum(y_true * y_pred)\n",
    "    false_neg = np.sum(y_true_neg * y_pred)\n",
    "    if true_pos == 0:\n",
    "        return 0\n",
    "    return true_pos/(true_pos + false_neg)\n",
    "\n",
    "def sensitivity(y_true, y_pred):\n",
    "    y_true_neg = -1 * (np.array(y_true) - 1)\n",
    "    y_pred_neg = -1 * (np.array(y_pred) - 1)\n",
    "    true_neg = np.sum(y_true_neg * y_pred_neg)\n",
    "    false_pos = np.sum(y_true * y_pred_neg)\n",
    "    if true_neg == 0:\n",
    "        return 0\n",
    "    return true_neg/(true_neg + false_pos)"
   ]
  },
  {
   "cell_type": "code",
   "execution_count": 17,
   "metadata": {},
   "outputs": [],
   "source": [
    "L01_values = np.logspace(-1, 1, 50)\n",
    "sensitivities = [1.0]\n",
    "specificities = [0.0]\n",
    "for l01 in L01_values:\n",
    "    dt = ClassificationTreePruned(2, max_depth=10, min_samples=3, mode_function=custom_mode(L01=l01))\n",
    "    dt.fit(X_spam_train, y_spam_train)\n",
    "    y_pred = dt.predict(X_spam_test)\n",
    "    sensitivities.append(sensitivity(y_spam_test, y_pred))\n",
    "    specificities.append(specificity(y_spam_test, y_pred))\n",
    "sensitivities.append(0.0)\n",
    "specificities.append(1.0)"
   ]
  },
  {
   "cell_type": "code",
   "execution_count": 18,
   "metadata": {},
   "outputs": [
    {
     "data": {
      "image/png": "[encoded data removed]",
      "text/plain": [
       "<Figure size 288x288 with 1 Axes>"
      ]
     },
     "metadata": {
      "needs_background": "light"
     },
     "output_type": "display_data"
    }
   ],
   "source": [
    "GREEN = '#009E73'\n",
    "fig, ax = plt.subplots(figsize=(4,4))\n",
    "ax.plot(specificities, sensitivities, color=GREEN, linewidth=0.8, marker='.')\n",
    "ax.set_xlabel('Specificity')\n",
    "ax.set_ylabel('Sensitivity')\n",
    "ax.set_xbound(lower=0, upper=1)\n",
    "ax.set_ybound(lower=0, upper=1)\n",
    "fig.tight_layout()\n",
    "plt.show()"
   ]
  },
  {
   "cell_type": "code",
   "execution_count": 19,
   "metadata": {},
   "outputs": [
    {
     "name": "stdout",
     "output_type": "stream",
     "text": [
      "0.9452806240857584\n"
     ]
    }
   ],
   "source": [
    "area = np.trapz(sensitivities, specificities)\n",
    "print(area)"
   ]
  }
 ],
 "metadata": {
  "kernelspec": {
   "display_name": "ml",
   "language": "python",
   "name": "python3"
  },
  "language_info": {
   "codemirror_mode": {
    "name": "ipython",
    "version": 3
   },
   "file_extension": ".py",
   "mimetype": "text/x-python",
   "name": "python",
   "nbconvert_exporter": "python",
   "pygments_lexer": "ipython3",
   "version": "3.9.7"
  },
  "orig_nbformat": 4,
  "vscode": {
   "interpreter": {
    "hash": "6d8c4c00aaea375f51ce0b653b564afd785a1adeeea68437cfc9eb80186c48f8"
   }
  }
 },
 "nbformat": 4,
 "nbformat_minor": 2
}
